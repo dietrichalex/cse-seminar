{
 "cells": [
  {
   "cell_type": "code",
   "execution_count": null,
   "metadata": {
    "collapsed": true
   },
   "outputs": [],
   "source": [
    "import numpy as np\n",
    "from keras.models import Sequential\n",
    "from keras.layers import Conv2D, MaxPooling2D, Flatten, Dense\n",
    "from keras.utils import load_img, img_to_array\n",
    "from sklearn.model_selection import train_test_split\n",
    "import cv2\n",
    "from matplotlib import pyplot as plt\n",
    "import os"
   ]
  },
  {
   "cell_type": "code",
   "execution_count": null,
   "outputs": [],
   "source": [
    "\n",
    "#import pictures and cut into slices\n",
    "input_path = \"../cse-seminar/inputs/tifBusan.tif\"\n",
    "img = cv2.imread(input_path)\n",
    "img = cv2.convertScaleAbs(img, alpha=50, beta=50)\n",
    "img = cv2.resize(img, (1530, 1530))\n",
    "plt.imshow(img)"
   ],
   "metadata": {
    "collapsed": false
   }
  },
  {
   "cell_type": "code",
   "execution_count": null,
   "outputs": [],
   "source": [
    "\n",
    "# Determine the dimensions of the original image\n",
    "height, width, _ = img.shape\n",
    "\n",
    "# Define the desired dimensions for each smaller image\n",
    "small_width = width // 10\n",
    "small_height = height // 10\n",
    "\n",
    "# Slice the original image into smaller images\n",
    "small_images = []\n",
    "for row in range(10):\n",
    "    for col in range(10):\n",
    "        # Calculate the starting and ending points of each small image\n",
    "        start_x = col * small_width\n",
    "        end_x = (col + 1) * small_width\n",
    "        start_y = row * small_height\n",
    "        end_y = (row + 1) * small_height\n",
    "\n",
    "        # Extract the small image from the original image\n",
    "        small_image = img[start_y:end_y, start_x:end_x]\n",
    "\n",
    "        # Append the small image to the list\n",
    "        small_images.append(small_image)\n",
    "\n",
    "# Display or save the smaller images as desired\n",
    "output_path = \"../cse-seminar/outputs/\"\n",
    "for i, small_image in enumerate(small_images):\n",
    "    cv2.imwrite('../cse-seminar/outputs/small_image%d.png' % i, small_image)\n"
   ],
   "metadata": {
    "collapsed": false
   }
  },
  {
   "cell_type": "code",
   "execution_count": null,
   "outputs": [],
   "source": [
    "\n",
    "# Set the input shape\n",
    "input_shape = (100, 100, 3)  # Assuming RGB images of size 320x320\n",
    "\n",
    "# Build the CNN model\n",
    "model = Sequential()\n",
    "\n",
    "# Add convolutional layers\n",
    "model.add(Conv2D(32, kernel_size=(3, 3), activation='relu', input_shape=input_shape))\n",
    "model.add(MaxPooling2D(pool_size=(2, 2)))\n",
    "model.add(Conv2D(64, kernel_size=(3, 3), activation='relu'))\n",
    "model.add(MaxPooling2D(pool_size=(2, 2)))\n",
    "\n",
    "# Flatten the output from the previous layer\n",
    "model.add(Flatten())\n",
    "\n",
    "# Add a fully connected layer\n",
    "model.add(Dense(128, activation='relu'))\n",
    "\n",
    "# Add the output layer\n",
    "model.add(Dense(1, activation='sigmoid'))  # Assuming binary classification (high-rise or not)\n",
    "\n",
    "# Compile the model\n",
    "model.compile(loss='binary_crossentropy', optimizer='adam', metrics=['accuracy'])\n",
    "\n",
    "# Load the dataset and preprocess it\n",
    "# Assuming you have a list of image paths, you can load and preprocess the images like this:\n",
    "\n",
    "\n",
    "folder_path = '../cse-seminar/outputs/'\n",
    "\n",
    "# Initialize an empty list to store the image input paths\n",
    "image_paths = []\n",
    "\n",
    "# Iterate over the files in the folder\n",
    "for filename in os.listdir(folder_path):\n",
    "    # Check if the file has a common image extension (e.g., jpg, png, etc.)\n",
    "    if filename.lower().endswith('.png'):\n",
    "        # Construct the full file path by joining the folder path and filename\n",
    "        file_path = os.path.join(folder_path, filename)\n",
    "        # Append the file path to the list of image paths\n",
    "        image_paths.append(file_path)\n",
    "\n",
    "images = []\n",
    "\n",
    "for path in image_paths:\n",
    "    img = load_img(path, target_size=input_shape[:2])\n",
    "    img_array = img_to_array(img)\n",
    "    images.append(img_array)\n",
    "\n",
    "X = np.array(images)  # Convert the list of image arrays into a numpy array\n",
    "\n",
    "# Assuming you also have the corresponding labels, you can load them like this:\n",
    "\n",
    "labels = np.array([0, 1])  # Assuming binary labels (0: not high-rise, 1: high-rise)\n"
   ],
   "metadata": {
    "collapsed": false
   }
  },
  {
   "cell_type": "code",
   "execution_count": null,
   "outputs": [],
   "source": [
    "\n",
    "# Split the data into train and test sets using train_test_split\n",
    "X_train, X_test, y_train, y_test = train_test_split(X, labels, test_size=0.2, random_state=42)\n",
    "\n",
    "# Train the model\n",
    "model.fit(X_train, y_train, batch_size=32, epochs=10, validation_split=0.2)\n",
    "\n",
    "# Evaluate the model\n",
    "loss, accuracy = model.evaluate(X_test, y_test)\n",
    "\n",
    "# Make predictions\n",
    "# Assuming you have a list of test image paths called test_image_paths\n",
    "\n",
    "\"\"\"\n",
    "X_test = np.array(test_images)  # Convert the list of test image arrays into a numpy array\n",
    "\n",
    "predictions = model.predict(X_test)\n",
    "\"\"\"\n",
    "# Further process the predictions to determine the presence of high-rise buildings\n",
    "# For example, you can use a threshold to classify predictions as high-rise or not\n"
   ],
   "metadata": {
    "collapsed": false
   }
  }
 ],
 "metadata": {
  "kernelspec": {
   "display_name": "Python 3",
   "language": "python",
   "name": "python3"
  },
  "language_info": {
   "codemirror_mode": {
    "name": "ipython",
    "version": 2
   },
   "file_extension": ".py",
   "mimetype": "text/x-python",
   "name": "python",
   "nbconvert_exporter": "python",
   "pygments_lexer": "ipython2",
   "version": "2.7.6"
  }
 },
 "nbformat": 4,
 "nbformat_minor": 0
}
